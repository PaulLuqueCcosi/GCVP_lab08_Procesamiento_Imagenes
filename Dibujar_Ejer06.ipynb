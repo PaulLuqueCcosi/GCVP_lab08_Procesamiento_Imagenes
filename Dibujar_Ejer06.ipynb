{
 "cells": [
  {
   "cell_type": "code",
   "execution_count": 38,
   "metadata": {},
   "outputs": [],
   "source": [
    "import cv2\n",
    "import numpy as np\n",
    "\n",
    "# Variables globales\n",
    "drawing = False  # True si el usuario está dibujando\n",
    "mode = 'rectangle'  # Forma inicial: rectángulo\n",
    "ix, iy = -1, -1  # Coordenadas iniciales del mouse\n",
    "\n",
    "# Crear una imagen en blanco\n",
    "img = np.zeros((512, 512, 3), np.uint8)"
   ]
  },
  {
   "cell_type": "code",
   "execution_count": 39,
   "metadata": {},
   "outputs": [],
   "source": [
    "# Función para dibujar un rectángulo\n",
    "def draw_rectangle(event, x, y, flags, param):\n",
    "    global ix, iy, drawing\n",
    "\n",
    "    if event == cv2.EVENT_LBUTTONDOWN:\n",
    "        drawing = True\n",
    "        ix, iy = x, y\n",
    "\n",
    "    elif event == cv2.EVENT_MOUSEMOVE:\n",
    "        if drawing:\n",
    "            cv2.rectangle(img, (ix, iy), (x, y), (0, 255, 0), -1)\n",
    "\n",
    "    elif event == cv2.EVENT_LBUTTONUP:\n",
    "        drawing = False\n",
    "        cv2.rectangle(img, (ix, iy), (x, y), (0, 255, 0), -1)"
   ]
  },
  {
   "cell_type": "code",
   "execution_count": 40,
   "metadata": {},
   "outputs": [],
   "source": [
    "# Función para dibujar un círculo\n",
    "def draw_circle(event, x, y, flags, param):\n",
    "    global ix, iy, drawing\n",
    "\n",
    "    if event == cv2.EVENT_LBUTTONDOWN:\n",
    "        drawing = True\n",
    "        ix, iy = x, y\n",
    "\n",
    "    elif event == cv2.EVENT_MOUSEMOVE:\n",
    "        if drawing:\n",
    "            cv2.circle(img, (x, y), 5, (0, 0, 255), -1)\n",
    "\n",
    "    elif event == cv2.EVENT_LBUTTONUP:\n",
    "        drawing = False\n",
    "        cv2.circle(img, (x, y), 5, (0, 0, 255), -1)\n"
   ]
  },
  {
   "cell_type": "code",
   "execution_count": 41,
   "metadata": {},
   "outputs": [],
   "source": [
    "# Función para dibujar una línea\n",
    "def draw_line(event, x, y, flags, param):\n",
    "    global ix, iy, drawing\n",
    "\n",
    "    if event == cv2.EVENT_LBUTTONDOWN:\n",
    "        drawing = True\n",
    "        ix, iy = x, y\n",
    "\n",
    "    elif event == cv2.EVENT_MOUSEMOVE:\n",
    "        if drawing:\n",
    "            cv2.line(img, (ix, iy), (x, y), (255, 0, 0), 2)\n",
    "\n",
    "    elif event == cv2.EVENT_LBUTTONUP:\n",
    "        drawing = False\n",
    "        cv2.line(img, (ix, iy), (x, y), (255, 0, 0), 2)"
   ]
  },
  {
   "cell_type": "code",
   "execution_count": 42,
   "metadata": {},
   "outputs": [],
   "source": [
    "# Función para dibujar una elipse\n",
    "def draw_ellipse(event, x, y, flags, param):\n",
    "    global ix, iy, drawing\n",
    "\n",
    "    if event == cv2.EVENT_LBUTTONDOWN:\n",
    "        drawing = True\n",
    "        ix, iy = x, y\n",
    "\n",
    "    elif event == cv2.EVENT_MOUSEMOVE:\n",
    "        if drawing:\n",
    "            cv2.ellipse(img, ((ix + x) // 2, (iy + y) // 2), ((x - ix) // 2, (y - iy) // 2), 0, 0, 360, (255, 255, 0), -1)\n",
    "\n",
    "    elif event == cv2.EVENT_LBUTTONUP:\n",
    "        drawing = False\n",
    "        cv2.ellipse(img, ((ix + x) // 2, (iy + y) // 2), ((x - ix) // 2, (y - iy) // 2), 0, 0, 360, (255, 255, 0), -1)\n"
   ]
  },
  {
   "cell_type": "code",
   "execution_count": 45,
   "metadata": {},
   "outputs": [
    {
     "name": "stdout",
     "output_type": "stream",
     "text": [
      "Imagen guardada como 'dibujo.png'\n"
     ]
    }
   ],
   "source": [
    "# Configurar la ventana y conectar la función del mouse según la forma seleccionada\n",
    "cv2.namedWindow('image')\n",
    "\n",
    "while True:\n",
    "    if mode == 'rectangle':\n",
    "        cv2.setMouseCallback('image', draw_rectangle)\n",
    "    elif mode == 'circle':\n",
    "        cv2.setMouseCallback('image', draw_circle)\n",
    "    elif mode == 'line':\n",
    "        cv2.setMouseCallback('image', draw_line)\n",
    "    elif mode == 'ellipse':\n",
    "        cv2.setMouseCallback('image', draw_ellipse)\n",
    "\n",
    "    cv2.imshow('image', img)\n",
    "    k = cv2.waitKey(1) & 0xFF\n",
    "\n",
    "    # Cambiar entre formas con las teclas qwert\n",
    "    if k == ord('q'):\n",
    "        mode = 'rectangle'\n",
    "    elif k == ord('w'):\n",
    "        mode = 'circle'\n",
    "    elif k == ord('e'):\n",
    "        mode = 'line'\n",
    "    elif k == ord('r'):\n",
    "        mode = 'ellipse'\n",
    "    elif k == 13:  # 13 es el código ASCII para la tecla Enter\n",
    "        cv2.imwrite('./Dibujos/dibujo.png', img)\n",
    "        print(\"Imagen guardada como 'dibujo.png'\")\n",
    "        break\n",
    "\n",
    "cv2.destroyAllWindows()"
   ]
  },
  {
   "cell_type": "code",
   "execution_count": null,
   "metadata": {},
   "outputs": [],
   "source": []
  },
  {
   "cell_type": "code",
   "execution_count": null,
   "metadata": {},
   "outputs": [],
   "source": []
  },
  {
   "cell_type": "code",
   "execution_count": null,
   "metadata": {},
   "outputs": [],
   "source": []
  },
  {
   "cell_type": "code",
   "execution_count": null,
   "metadata": {},
   "outputs": [],
   "source": []
  }
 ],
 "metadata": {
  "kernelspec": {
   "display_name": "Python 3",
   "language": "python",
   "name": "python3"
  },
  "language_info": {
   "codemirror_mode": {
    "name": "ipython",
    "version": 3
   },
   "file_extension": ".py",
   "mimetype": "text/x-python",
   "name": "python",
   "nbconvert_exporter": "python",
   "pygments_lexer": "ipython3",
   "version": "3.6.6"
  }
 },
 "nbformat": 4,
 "nbformat_minor": 2
}
